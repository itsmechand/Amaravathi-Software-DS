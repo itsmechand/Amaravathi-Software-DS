{
  "nbformat": 4,
  "nbformat_minor": 0,
  "metadata": {
    "colab": {
      "provenance": [],
      "authorship_tag": "ABX9TyNQFCSZUX0s7hVMJ+h9j5+m",
      "include_colab_link": true
    },
    "kernelspec": {
      "name": "python3",
      "display_name": "Python 3"
    },
    "language_info": {
      "name": "python"
    }
  },
  "cells": [
    {
      "cell_type": "markdown",
      "metadata": {
        "id": "view-in-github",
        "colab_type": "text"
      },
      "source": [
        "<a href=\"https://colab.research.google.com/github/itsmechand/Amaravathi-Software-DS/blob/main/DS_Task1_CHANDRA_SEKHAR_GOLLAPROLU.ipynb\" target=\"_parent\"><img src=\"https://colab.research.google.com/assets/colab-badge.svg\" alt=\"Open In Colab\"/></a>"
      ]
    },
    {
      "cell_type": "markdown",
      "source": [
        "\n",
        "**Name**     : CHANDRA SEKHAR GOLLAPROLU\n",
        "\n",
        "**Roll No**  : 21F01A0542\n",
        "\n",
        "**College**  : ST.ANN'S COLLEGE OF ENGINEERING AND TECHNOLOGY\n",
        "\n",
        "**Mail id**  : cs7093624@gmail.com\n",
        "\n",
        "**Course**   : Datascience\n",
        "\n",
        "**Task No**  : Task 1"
      ],
      "metadata": {
        "id": "P_BsHVgvwhH8"
      }
    },
    {
      "cell_type": "markdown",
      "source": [
        "**1.Read The Given Three CSV Files To Diffrent Pandas Dataframes**"
      ],
      "metadata": {
        "id": "bDcfceMg2Ttw"
      }
    },
    {
      "cell_type": "code",
      "source": [
        "import pandas as pd\n",
        "df1=pd.read_csv(\"Customers .csv\")\n",
        "df2=pd.read_csv(\"Transaction.csv\")\n",
        "df3=pd.read_csv(\"Continent .csv\")\n",
        "print(df1.head())\n",
        "print(df2.head())\n",
        "print(df3.head())\n"
      ],
      "metadata": {
        "colab": {
          "base_uri": "https://localhost:8080/"
        },
        "id": "3XZXnnYnEnx-",
        "outputId": "090cc41a-5189-493c-d6e6-b01133a66a63"
      },
      "execution_count": 3,
      "outputs": [
        {
          "output_type": "stream",
          "name": "stdout",
          "text": [
            "   customer_id  region_id  start_date    end_date\n",
            "0            1          3  02-01-2020  03-01-2020\n",
            "1            2          3  03-01-2020  17-01-2020\n",
            "2            3          5  27-01-2020  18-02-2020\n",
            "3            4          5  07-01-2020  19-01-2020\n",
            "4            5          3  15-01-2020  23-01-2020\n",
            "   customer_id    txn_date txn_type  txn_amount\n",
            "0          429  21-01-2020  deposit          82\n",
            "1          155  10-01-2020  deposit         712\n",
            "2          398  01-01-2020  deposit         196\n",
            "3          255  14-01-2020  deposit         563\n",
            "4          185  29-01-2020  deposit         626\n",
            "   region_id region_name\n",
            "0          1   Australia\n",
            "1          2     America\n",
            "2          3      Africa\n",
            "3          4        Asia\n",
            "4          5      Europe\n"
          ]
        }
      ]
    },
    {
      "cell_type": "markdown",
      "source": [
        "**2.Merge The Customers and Transaction Into a Single Dataframe.**"
      ],
      "metadata": {
        "id": "h2hciDNzyn3W"
      }
    },
    {
      "cell_type": "code",
      "source": [
        "#Default Merge\n",
        "merged_df = df1.merge(df2)\n",
        "print(\"Default Merge : \\n\",merged_df.head())\n",
        "#Inner Merge\n",
        "inner_merged_df = pd.merge(df1 , df2 , on = 'customer_id' , how = 'inner')\n",
        "print(\"Inner Merge : \\n\", inner_merged_df.head())\n",
        "#Outer Merge\n",
        "outer_merged_df = pd.merge(df1 , df2 , on = 'customer_id' , how = 'outer')\n",
        "print(\"Outer Merge : \\n\", outer_merged_df.head())\n",
        "\n",
        "#Left Merge\n",
        "left_merged_df = pd.merge(df1 , df2 , on = 'customer_id' , how = 'left')\n",
        "print(\"Left Merge : \\n\", left_merged_df.head())\n",
        "#Right Merge\n",
        "right_merged_df = pd.merge(df1 , df2 , on = 'customer_id' , how = 'inner')\n",
        "print(\"Right Merge : \\n\", right_merged_df.head())\n"
      ],
      "metadata": {
        "colab": {
          "base_uri": "https://localhost:8080/"
        },
        "id": "q52Z_r5Ty7R4",
        "outputId": "758779cb-ee8e-47df-d97a-46c7cd5f63e9"
      },
      "execution_count": 4,
      "outputs": [
        {
          "output_type": "stream",
          "name": "stdout",
          "text": [
            "Default Merge : \n",
            "    customer_id  region_id  start_date    end_date    txn_date  txn_type  \\\n",
            "0            1          3  02-01-2020  03-01-2020  02-01-2020   deposit   \n",
            "1            1          3  02-01-2020  03-01-2020  05-03-2020  purchase   \n",
            "2            1          3  02-01-2020  03-01-2020  17-03-2020   deposit   \n",
            "3            1          3  02-01-2020  03-01-2020  19-03-2020  purchase   \n",
            "4            1          3  04-01-2020  14-01-2020  02-01-2020   deposit   \n",
            "\n",
            "   txn_amount  \n",
            "0         312  \n",
            "1         612  \n",
            "2         324  \n",
            "3         664  \n",
            "4         312  \n",
            "Inner Merge : \n",
            "    customer_id  region_id  start_date    end_date    txn_date  txn_type  \\\n",
            "0            1          3  02-01-2020  03-01-2020  02-01-2020   deposit   \n",
            "1            1          3  02-01-2020  03-01-2020  05-03-2020  purchase   \n",
            "2            1          3  02-01-2020  03-01-2020  17-03-2020   deposit   \n",
            "3            1          3  02-01-2020  03-01-2020  19-03-2020  purchase   \n",
            "4            1          3  04-01-2020  14-01-2020  02-01-2020   deposit   \n",
            "\n",
            "   txn_amount  \n",
            "0         312  \n",
            "1         612  \n",
            "2         324  \n",
            "3         664  \n",
            "4         312  \n",
            "Outer Merge : \n",
            "    customer_id  region_id  start_date    end_date    txn_date  txn_type  \\\n",
            "0            1          3  02-01-2020  03-01-2020  02-01-2020   deposit   \n",
            "1            1          3  02-01-2020  03-01-2020  05-03-2020  purchase   \n",
            "2            1          3  02-01-2020  03-01-2020  17-03-2020   deposit   \n",
            "3            1          3  02-01-2020  03-01-2020  19-03-2020  purchase   \n",
            "4            1          3  04-01-2020  14-01-2020  02-01-2020   deposit   \n",
            "\n",
            "   txn_amount  \n",
            "0         312  \n",
            "1         612  \n",
            "2         324  \n",
            "3         664  \n",
            "4         312  \n",
            "Left Merge : \n",
            "    customer_id  region_id  start_date    end_date    txn_date  txn_type  \\\n",
            "0            1          3  02-01-2020  03-01-2020  02-01-2020   deposit   \n",
            "1            1          3  02-01-2020  03-01-2020  05-03-2020  purchase   \n",
            "2            1          3  02-01-2020  03-01-2020  17-03-2020   deposit   \n",
            "3            1          3  02-01-2020  03-01-2020  19-03-2020  purchase   \n",
            "4            2          3  03-01-2020  17-01-2020  03-01-2020   deposit   \n",
            "\n",
            "   txn_amount  \n",
            "0         312  \n",
            "1         612  \n",
            "2         324  \n",
            "3         664  \n",
            "4         549  \n",
            "Right Merge : \n",
            "    customer_id  region_id  start_date    end_date    txn_date  txn_type  \\\n",
            "0            1          3  02-01-2020  03-01-2020  02-01-2020   deposit   \n",
            "1            1          3  02-01-2020  03-01-2020  05-03-2020  purchase   \n",
            "2            1          3  02-01-2020  03-01-2020  17-03-2020   deposit   \n",
            "3            1          3  02-01-2020  03-01-2020  19-03-2020  purchase   \n",
            "4            1          3  04-01-2020  14-01-2020  02-01-2020   deposit   \n",
            "\n",
            "   txn_amount  \n",
            "0         312  \n",
            "1         612  \n",
            "2         324  \n",
            "3         664  \n",
            "4         312  \n"
          ]
        }
      ]
    },
    {
      "cell_type": "markdown",
      "source": [
        "**3.Calculate The Duration In Days Between Start Date and End Date.**"
      ],
      "metadata": {
        "id": "H9qo7cT64xSp"
      }
    },
    {
      "cell_type": "code",
      "source": [
        "df1['start_date'] = pd.to_datetime(df1['start_date'], format='%d-%m-%Y')\n",
        "df1['end_date'] = pd.to_datetime(df1['end_date'], format='%d-%m-%Y')\n",
        "print(df1[df1['end_date'].isna()]) df1['duration'] = (df1['end_date'] - df1['start_date']).dt.days\n",
        "print(df1.head())"
      ],
      "metadata": {
        "id": "WhrXzS1r1XKb"
      },
      "execution_count": null,
      "outputs": []
    },
    {
      "cell_type": "markdown",
      "source": [
        "**4.Drop the Duplicate Rows In The Merged Dataframe If Any.**"
      ],
      "metadata": {
        "id": "94LJ4-Lw62f7"
      }
    },
    {
      "cell_type": "code",
      "source": [
        "merge.drop_duplicates()"
      ],
      "metadata": {
        "colab": {
          "base_uri": "https://localhost:8080/",
          "height": 424
        },
        "id": "HqXGue5M7ErV",
        "outputId": "ca0d2c6d-fe67-4c06-dd0a-64c4a9d194ed"
      },
      "execution_count": null,
      "outputs": [
        {
          "output_type": "execute_result",
          "data": {
            "text/plain": [
              "       customer_id    txn_date    txn_type  txn_amount  region_id start_date  \\\n",
              "0              429  21-01-2020     deposit          82          5 2020-01-21   \n",
              "1              429  21-01-2020     deposit          82          5 2020-01-29   \n",
              "2              429  21-01-2020     deposit          82          5 2020-02-02   \n",
              "3              429  21-01-2020     deposit          82          5 2020-03-02   \n",
              "4              429  21-01-2020     deposit          82          5 2020-03-24   \n",
              "...            ...         ...         ...         ...        ...        ...   \n",
              "41071          189  27-01-2020  withdrawal         861          4 2020-01-17   \n",
              "41072          189  27-01-2020  withdrawal         861          4 2020-01-28   \n",
              "41073          189  27-01-2020  withdrawal         861          4 2020-02-04   \n",
              "41074          189  27-01-2020  withdrawal         861          4 2020-02-13   \n",
              "41075          189  27-01-2020  withdrawal         861          4 2020-02-24   \n",
              "\n",
              "        end_date  Duration  \n",
              "0     2020-01-28       7.0  \n",
              "1     2020-02-01       3.0  \n",
              "2     2020-03-01      28.0  \n",
              "3     2020-03-23      21.0  \n",
              "4     2020-04-12      19.0  \n",
              "...          ...       ...  \n",
              "41071 2020-01-27      10.0  \n",
              "41072 2020-02-03       6.0  \n",
              "41073 2020-02-12       8.0  \n",
              "41074 2020-02-23      10.0  \n",
              "41075        NaT       NaN  \n",
              "\n",
              "[41076 rows x 8 columns]"
            ],
            "text/html": [
              "\n",
              "  <div id=\"df-e37a271e-4338-48c5-8ea1-3ec725c84135\" class=\"colab-df-container\">\n",
              "    <div>\n",
              "<style scoped>\n",
              "    .dataframe tbody tr th:only-of-type {\n",
              "        vertical-align: middle;\n",
              "    }\n",
              "\n",
              "    .dataframe tbody tr th {\n",
              "        vertical-align: top;\n",
              "    }\n",
              "\n",
              "    .dataframe thead th {\n",
              "        text-align: right;\n",
              "    }\n",
              "</style>\n",
              "<table border=\"1\" class=\"dataframe\">\n",
              "  <thead>\n",
              "    <tr style=\"text-align: right;\">\n",
              "      <th></th>\n",
              "      <th>customer_id</th>\n",
              "      <th>txn_date</th>\n",
              "      <th>txn_type</th>\n",
              "      <th>txn_amount</th>\n",
              "      <th>region_id</th>\n",
              "      <th>start_date</th>\n",
              "      <th>end_date</th>\n",
              "      <th>Duration</th>\n",
              "    </tr>\n",
              "  </thead>\n",
              "  <tbody>\n",
              "    <tr>\n",
              "      <th>0</th>\n",
              "      <td>429</td>\n",
              "      <td>21-01-2020</td>\n",
              "      <td>deposit</td>\n",
              "      <td>82</td>\n",
              "      <td>5</td>\n",
              "      <td>2020-01-21</td>\n",
              "      <td>2020-01-28</td>\n",
              "      <td>7.0</td>\n",
              "    </tr>\n",
              "    <tr>\n",
              "      <th>1</th>\n",
              "      <td>429</td>\n",
              "      <td>21-01-2020</td>\n",
              "      <td>deposit</td>\n",
              "      <td>82</td>\n",
              "      <td>5</td>\n",
              "      <td>2020-01-29</td>\n",
              "      <td>2020-02-01</td>\n",
              "      <td>3.0</td>\n",
              "    </tr>\n",
              "    <tr>\n",
              "      <th>2</th>\n",
              "      <td>429</td>\n",
              "      <td>21-01-2020</td>\n",
              "      <td>deposit</td>\n",
              "      <td>82</td>\n",
              "      <td>5</td>\n",
              "      <td>2020-02-02</td>\n",
              "      <td>2020-03-01</td>\n",
              "      <td>28.0</td>\n",
              "    </tr>\n",
              "    <tr>\n",
              "      <th>3</th>\n",
              "      <td>429</td>\n",
              "      <td>21-01-2020</td>\n",
              "      <td>deposit</td>\n",
              "      <td>82</td>\n",
              "      <td>5</td>\n",
              "      <td>2020-03-02</td>\n",
              "      <td>2020-03-23</td>\n",
              "      <td>21.0</td>\n",
              "    </tr>\n",
              "    <tr>\n",
              "      <th>4</th>\n",
              "      <td>429</td>\n",
              "      <td>21-01-2020</td>\n",
              "      <td>deposit</td>\n",
              "      <td>82</td>\n",
              "      <td>5</td>\n",
              "      <td>2020-03-24</td>\n",
              "      <td>2020-04-12</td>\n",
              "      <td>19.0</td>\n",
              "    </tr>\n",
              "    <tr>\n",
              "      <th>...</th>\n",
              "      <td>...</td>\n",
              "      <td>...</td>\n",
              "      <td>...</td>\n",
              "      <td>...</td>\n",
              "      <td>...</td>\n",
              "      <td>...</td>\n",
              "      <td>...</td>\n",
              "      <td>...</td>\n",
              "    </tr>\n",
              "    <tr>\n",
              "      <th>41071</th>\n",
              "      <td>189</td>\n",
              "      <td>27-01-2020</td>\n",
              "      <td>withdrawal</td>\n",
              "      <td>861</td>\n",
              "      <td>4</td>\n",
              "      <td>2020-01-17</td>\n",
              "      <td>2020-01-27</td>\n",
              "      <td>10.0</td>\n",
              "    </tr>\n",
              "    <tr>\n",
              "      <th>41072</th>\n",
              "      <td>189</td>\n",
              "      <td>27-01-2020</td>\n",
              "      <td>withdrawal</td>\n",
              "      <td>861</td>\n",
              "      <td>4</td>\n",
              "      <td>2020-01-28</td>\n",
              "      <td>2020-02-03</td>\n",
              "      <td>6.0</td>\n",
              "    </tr>\n",
              "    <tr>\n",
              "      <th>41073</th>\n",
              "      <td>189</td>\n",
              "      <td>27-01-2020</td>\n",
              "      <td>withdrawal</td>\n",
              "      <td>861</td>\n",
              "      <td>4</td>\n",
              "      <td>2020-02-04</td>\n",
              "      <td>2020-02-12</td>\n",
              "      <td>8.0</td>\n",
              "    </tr>\n",
              "    <tr>\n",
              "      <th>41074</th>\n",
              "      <td>189</td>\n",
              "      <td>27-01-2020</td>\n",
              "      <td>withdrawal</td>\n",
              "      <td>861</td>\n",
              "      <td>4</td>\n",
              "      <td>2020-02-13</td>\n",
              "      <td>2020-02-23</td>\n",
              "      <td>10.0</td>\n",
              "    </tr>\n",
              "    <tr>\n",
              "      <th>41075</th>\n",
              "      <td>189</td>\n",
              "      <td>27-01-2020</td>\n",
              "      <td>withdrawal</td>\n",
              "      <td>861</td>\n",
              "      <td>4</td>\n",
              "      <td>2020-02-24</td>\n",
              "      <td>NaT</td>\n",
              "      <td>NaN</td>\n",
              "    </tr>\n",
              "  </tbody>\n",
              "</table>\n",
              "<p>41076 rows × 8 columns</p>\n",
              "</div>\n",
              "    <div class=\"colab-df-buttons\">\n",
              "\n",
              "  <div class=\"colab-df-container\">\n",
              "    <button class=\"colab-df-convert\" onclick=\"convertToInteractive('df-e37a271e-4338-48c5-8ea1-3ec725c84135')\"\n",
              "            title=\"Convert this dataframe to an interactive table.\"\n",
              "            style=\"display:none;\">\n",
              "\n",
              "  <svg xmlns=\"http://www.w3.org/2000/svg\" height=\"24px\" viewBox=\"0 -960 960 960\">\n",
              "    <path d=\"M120-120v-720h720v720H120Zm60-500h600v-160H180v160Zm220 220h160v-160H400v160Zm0 220h160v-160H400v160ZM180-400h160v-160H180v160Zm440 0h160v-160H620v160ZM180-180h160v-160H180v160Zm440 0h160v-160H620v160Z\"/>\n",
              "  </svg>\n",
              "    </button>\n",
              "\n",
              "  <style>\n",
              "    .colab-df-container {\n",
              "      display:flex;\n",
              "      gap: 12px;\n",
              "    }\n",
              "\n",
              "    .colab-df-convert {\n",
              "      background-color: #E8F0FE;\n",
              "      border: none;\n",
              "      border-radius: 50%;\n",
              "      cursor: pointer;\n",
              "      display: none;\n",
              "      fill: #1967D2;\n",
              "      height: 32px;\n",
              "      padding: 0 0 0 0;\n",
              "      width: 32px;\n",
              "    }\n",
              "\n",
              "    .colab-df-convert:hover {\n",
              "      background-color: #E2EBFA;\n",
              "      box-shadow: 0px 1px 2px rgba(60, 64, 67, 0.3), 0px 1px 3px 1px rgba(60, 64, 67, 0.15);\n",
              "      fill: #174EA6;\n",
              "    }\n",
              "\n",
              "    .colab-df-buttons div {\n",
              "      margin-bottom: 4px;\n",
              "    }\n",
              "\n",
              "    [theme=dark] .colab-df-convert {\n",
              "      background-color: #3B4455;\n",
              "      fill: #D2E3FC;\n",
              "    }\n",
              "\n",
              "    [theme=dark] .colab-df-convert:hover {\n",
              "      background-color: #434B5C;\n",
              "      box-shadow: 0px 1px 3px 1px rgba(0, 0, 0, 0.15);\n",
              "      filter: drop-shadow(0px 1px 2px rgba(0, 0, 0, 0.3));\n",
              "      fill: #FFFFFF;\n",
              "    }\n",
              "  </style>\n",
              "\n",
              "    <script>\n",
              "      const buttonEl =\n",
              "        document.querySelector('#df-e37a271e-4338-48c5-8ea1-3ec725c84135 button.colab-df-convert');\n",
              "      buttonEl.style.display =\n",
              "        google.colab.kernel.accessAllowed ? 'block' : 'none';\n",
              "\n",
              "      async function convertToInteractive(key) {\n",
              "        const element = document.querySelector('#df-e37a271e-4338-48c5-8ea1-3ec725c84135');\n",
              "        const dataTable =\n",
              "          await google.colab.kernel.invokeFunction('convertToInteractive',\n",
              "                                                    [key], {});\n",
              "        if (!dataTable) return;\n",
              "\n",
              "        const docLinkHtml = 'Like what you see? Visit the ' +\n",
              "          '<a target=\"_blank\" href=https://colab.research.google.com/notebooks/data_table.ipynb>data table notebook</a>'\n",
              "          + ' to learn more about interactive tables.';\n",
              "        element.innerHTML = '';\n",
              "        dataTable['output_type'] = 'display_data';\n",
              "        await google.colab.output.renderOutput(dataTable, element);\n",
              "        const docLink = document.createElement('div');\n",
              "        docLink.innerHTML = docLinkHtml;\n",
              "        element.appendChild(docLink);\n",
              "      }\n",
              "    </script>\n",
              "  </div>\n",
              "\n",
              "\n",
              "<div id=\"df-331c0fed-9933-41c5-b1d2-9698d48ee7e0\">\n",
              "  <button class=\"colab-df-quickchart\" onclick=\"quickchart('df-331c0fed-9933-41c5-b1d2-9698d48ee7e0')\"\n",
              "            title=\"Suggest charts\"\n",
              "            style=\"display:none;\">\n",
              "\n",
              "<svg xmlns=\"http://www.w3.org/2000/svg\" height=\"24px\"viewBox=\"0 0 24 24\"\n",
              "     width=\"24px\">\n",
              "    <g>\n",
              "        <path d=\"M19 3H5c-1.1 0-2 .9-2 2v14c0 1.1.9 2 2 2h14c1.1 0 2-.9 2-2V5c0-1.1-.9-2-2-2zM9 17H7v-7h2v7zm4 0h-2V7h2v10zm4 0h-2v-4h2v4z\"/>\n",
              "    </g>\n",
              "</svg>\n",
              "  </button>\n",
              "\n",
              "<style>\n",
              "  .colab-df-quickchart {\n",
              "      --bg-color: #E8F0FE;\n",
              "      --fill-color: #1967D2;\n",
              "      --hover-bg-color: #E2EBFA;\n",
              "      --hover-fill-color: #174EA6;\n",
              "      --disabled-fill-color: #AAA;\n",
              "      --disabled-bg-color: #DDD;\n",
              "  }\n",
              "\n",
              "  [theme=dark] .colab-df-quickchart {\n",
              "      --bg-color: #3B4455;\n",
              "      --fill-color: #D2E3FC;\n",
              "      --hover-bg-color: #434B5C;\n",
              "      --hover-fill-color: #FFFFFF;\n",
              "      --disabled-bg-color: #3B4455;\n",
              "      --disabled-fill-color: #666;\n",
              "  }\n",
              "\n",
              "  .colab-df-quickchart {\n",
              "    background-color: var(--bg-color);\n",
              "    border: none;\n",
              "    border-radius: 50%;\n",
              "    cursor: pointer;\n",
              "    display: none;\n",
              "    fill: var(--fill-color);\n",
              "    height: 32px;\n",
              "    padding: 0;\n",
              "    width: 32px;\n",
              "  }\n",
              "\n",
              "  .colab-df-quickchart:hover {\n",
              "    background-color: var(--hover-bg-color);\n",
              "    box-shadow: 0 1px 2px rgba(60, 64, 67, 0.3), 0 1px 3px 1px rgba(60, 64, 67, 0.15);\n",
              "    fill: var(--button-hover-fill-color);\n",
              "  }\n",
              "\n",
              "  .colab-df-quickchart-complete:disabled,\n",
              "  .colab-df-quickchart-complete:disabled:hover {\n",
              "    background-color: var(--disabled-bg-color);\n",
              "    fill: var(--disabled-fill-color);\n",
              "    box-shadow: none;\n",
              "  }\n",
              "\n",
              "  .colab-df-spinner {\n",
              "    border: 2px solid var(--fill-color);\n",
              "    border-color: transparent;\n",
              "    border-bottom-color: var(--fill-color);\n",
              "    animation:\n",
              "      spin 1s steps(1) infinite;\n",
              "  }\n",
              "\n",
              "  @keyframes spin {\n",
              "    0% {\n",
              "      border-color: transparent;\n",
              "      border-bottom-color: var(--fill-color);\n",
              "      border-left-color: var(--fill-color);\n",
              "    }\n",
              "    20% {\n",
              "      border-color: transparent;\n",
              "      border-left-color: var(--fill-color);\n",
              "      border-top-color: var(--fill-color);\n",
              "    }\n",
              "    30% {\n",
              "      border-color: transparent;\n",
              "      border-left-color: var(--fill-color);\n",
              "      border-top-color: var(--fill-color);\n",
              "      border-right-color: var(--fill-color);\n",
              "    }\n",
              "    40% {\n",
              "      border-color: transparent;\n",
              "      border-right-color: var(--fill-color);\n",
              "      border-top-color: var(--fill-color);\n",
              "    }\n",
              "    60% {\n",
              "      border-color: transparent;\n",
              "      border-right-color: var(--fill-color);\n",
              "    }\n",
              "    80% {\n",
              "      border-color: transparent;\n",
              "      border-right-color: var(--fill-color);\n",
              "      border-bottom-color: var(--fill-color);\n",
              "    }\n",
              "    90% {\n",
              "      border-color: transparent;\n",
              "      border-bottom-color: var(--fill-color);\n",
              "    }\n",
              "  }\n",
              "</style>\n",
              "\n",
              "  <script>\n",
              "    async function quickchart(key) {\n",
              "      const quickchartButtonEl =\n",
              "        document.querySelector('#' + key + ' button');\n",
              "      quickchartButtonEl.disabled = true;  // To prevent multiple clicks.\n",
              "      quickchartButtonEl.classList.add('colab-df-spinner');\n",
              "      try {\n",
              "        const charts = await google.colab.kernel.invokeFunction(\n",
              "            'suggestCharts', [key], {});\n",
              "      } catch (error) {\n",
              "        console.error('Error during call to suggestCharts:', error);\n",
              "      }\n",
              "      quickchartButtonEl.classList.remove('colab-df-spinner');\n",
              "      quickchartButtonEl.classList.add('colab-df-quickchart-complete');\n",
              "    }\n",
              "    (() => {\n",
              "      let quickchartButtonEl =\n",
              "        document.querySelector('#df-331c0fed-9933-41c5-b1d2-9698d48ee7e0 button');\n",
              "      quickchartButtonEl.style.display =\n",
              "        google.colab.kernel.accessAllowed ? 'block' : 'none';\n",
              "    })();\n",
              "  </script>\n",
              "</div>\n",
              "\n",
              "    </div>\n",
              "  </div>\n"
            ],
            "application/vnd.google.colaboratory.intrinsic+json": {
              "type": "dataframe",
              "summary": "{\n  \"name\": \"merge\",\n  \"rows\": 41076,\n  \"fields\": [\n    {\n      \"column\": \"customer_id\",\n      \"properties\": {\n        \"dtype\": \"number\",\n        \"std\": 140,\n        \"min\": 1,\n        \"max\": 500,\n        \"num_unique_values\": 500,\n        \"samples\": [\n          340,\n          46,\n          49\n        ],\n        \"semantic_type\": \"\",\n        \"description\": \"\"\n      }\n    },\n    {\n      \"column\": \"txn_date\",\n      \"properties\": {\n        \"dtype\": \"object\",\n        \"num_unique_values\": 119,\n        \"samples\": [\n          \"25-01-2020\",\n          \"30-01-2020\",\n          \"25-02-2020\"\n        ],\n        \"semantic_type\": \"\",\n        \"description\": \"\"\n      }\n    },\n    {\n      \"column\": \"txn_type\",\n      \"properties\": {\n        \"dtype\": \"category\",\n        \"num_unique_values\": 3,\n        \"samples\": [\n          \"deposit\",\n          \"withdrawal\",\n          \"purchase\"\n        ],\n        \"semantic_type\": \"\",\n        \"description\": \"\"\n      }\n    },\n    {\n      \"column\": \"txn_amount\",\n      \"properties\": {\n        \"dtype\": \"number\",\n        \"std\": 288,\n        \"min\": 0,\n        \"max\": 1000,\n        \"num_unique_values\": 999,\n        \"samples\": [\n          552,\n          242,\n          973\n        ],\n        \"semantic_type\": \"\",\n        \"description\": \"\"\n      }\n    },\n    {\n      \"column\": \"region_id\",\n      \"properties\": {\n        \"dtype\": \"number\",\n        \"std\": 1,\n        \"min\": 1,\n        \"max\": 5,\n        \"num_unique_values\": 5,\n        \"samples\": [\n          4,\n          2,\n          3\n        ],\n        \"semantic_type\": \"\",\n        \"description\": \"\"\n      }\n    },\n    {\n      \"column\": \"start_date\",\n      \"properties\": {\n        \"dtype\": \"date\",\n        \"min\": \"2020-01-01 00:00:00\",\n        \"max\": \"2020-07-03 00:00:00\",\n        \"num_unique_values\": 161,\n        \"samples\": [\n          \"2020-03-13 00:00:00\",\n          \"2020-05-02 00:00:00\",\n          \"2020-04-30 00:00:00\"\n        ],\n        \"semantic_type\": \"\",\n        \"description\": \"\"\n      }\n    },\n    {\n      \"column\": \"end_date\",\n      \"properties\": {\n        \"dtype\": \"date\",\n        \"min\": \"2020-01-02 00:00:00\",\n        \"max\": \"2020-07-02 00:00:00\",\n        \"num_unique_values\": 159,\n        \"samples\": [\n          \"2020-01-15 00:00:00\",\n          \"2020-06-14 00:00:00\",\n          \"2020-05-21 00:00:00\"\n        ],\n        \"semantic_type\": \"\",\n        \"description\": \"\"\n      }\n    },\n    {\n      \"column\": \"Duration\",\n      \"properties\": {\n        \"dtype\": \"number\",\n        \"std\": 8.570387973833766,\n        \"min\": 0.0,\n        \"max\": 30.0,\n        \"num_unique_values\": 31,\n        \"samples\": [\n          6.0,\n          18.0,\n          10.0\n        ],\n        \"semantic_type\": \"\",\n        \"description\": \"\"\n      }\n    }\n  ]\n}"
            }
          },
          "metadata": {},
          "execution_count": 19
        }
      ]
    },
    {
      "cell_type": "markdown",
      "source": [
        "**5.Drop Rows With Missing Values In The Merged Dataframe If Any.**"
      ],
      "metadata": {
        "id": "Gts7sfnc7Kmt"
      }
    },
    {
      "cell_type": "code",
      "source": [
        "print(merge.isnull().sum())\n",
        "print(merge.dropna())"
      ],
      "metadata": {
        "colab": {
          "base_uri": "https://localhost:8080/"
        },
        "id": "Spqe-4vu7ae5",
        "outputId": "eaa12f7c-ede1-4c0c-9a14-ecc418ac29d7"
      },
      "execution_count": null,
      "outputs": [
        {
          "output_type": "stream",
          "name": "stdout",
          "text": [
            "customer_id       0\n",
            "txn_date          0\n",
            "txn_type          0\n",
            "txn_amount        0\n",
            "region_id         0\n",
            "start_date        0\n",
            "end_date       5868\n",
            "Duration       5868\n",
            "dtype: int64\n",
            "       customer_id    txn_date    txn_type  txn_amount  region_id start_date  \\\n",
            "0              429  21-01-2020     deposit          82          5 2020-01-21   \n",
            "1              429  21-01-2020     deposit          82          5 2020-01-29   \n",
            "2              429  21-01-2020     deposit          82          5 2020-02-02   \n",
            "3              429  21-01-2020     deposit          82          5 2020-03-02   \n",
            "4              429  21-01-2020     deposit          82          5 2020-03-24   \n",
            "...            ...         ...         ...         ...        ...        ...   \n",
            "41070          189  27-01-2020  withdrawal         861          4 2020-01-16   \n",
            "41071          189  27-01-2020  withdrawal         861          4 2020-01-17   \n",
            "41072          189  27-01-2020  withdrawal         861          4 2020-01-28   \n",
            "41073          189  27-01-2020  withdrawal         861          4 2020-02-04   \n",
            "41074          189  27-01-2020  withdrawal         861          4 2020-02-13   \n",
            "\n",
            "        end_date  Duration  \n",
            "0     2020-01-28       7.0  \n",
            "1     2020-02-01       3.0  \n",
            "2     2020-03-01      28.0  \n",
            "3     2020-03-23      21.0  \n",
            "4     2020-04-12      19.0  \n",
            "...          ...       ...  \n",
            "41070 2020-01-16       0.0  \n",
            "41071 2020-01-27      10.0  \n",
            "41072 2020-02-03       6.0  \n",
            "41073 2020-02-12       8.0  \n",
            "41074 2020-02-23      10.0  \n",
            "\n",
            "[35208 rows x 8 columns]\n"
          ]
        }
      ]
    },
    {
      "cell_type": "markdown",
      "source": [
        "**6.Calculate The Average Duration Of Each Customer.**"
      ],
      "metadata": {
        "id": "ujQNcDSm7fnu"
      }
    },
    {
      "cell_type": "code",
      "source": [
        "avg_duration = merge.groupby('customer_id')['Duration'].mean().reset_index()\n",
        "print(avg_duration)"
      ],
      "metadata": {
        "colab": {
          "base_uri": "https://localhost:8080/"
        },
        "id": "ugiznGIR7qM5",
        "outputId": "2495efa5-aac6-4330-cd79-187346bb9cb3"
      },
      "execution_count": null,
      "outputs": [
        {
          "output_type": "stream",
          "name": "stdout",
          "text": [
            "     customer_id   Duration\n",
            "0              1  11.500000\n",
            "1              2  10.833333\n",
            "2              3  13.833333\n",
            "3              4  13.333333\n",
            "4              5   7.500000\n",
            "..           ...        ...\n",
            "495          496   7.333333\n",
            "496          497  18.666667\n",
            "497          498  11.833333\n",
            "498          499   4.333333\n",
            "499          500  14.000000\n",
            "\n",
            "[500 rows x 2 columns]\n"
          ]
        }
      ]
    },
    {
      "cell_type": "markdown",
      "source": [
        "**7.Display The Unique Transaction Types.**"
      ],
      "metadata": {
        "id": "LlTwd8sD7zep"
      }
    },
    {
      "cell_type": "code",
      "source": [
        "unique_txn_types = df2['txn_type'].unique()\n",
        "print(unique_txn_types)"
      ],
      "metadata": {
        "id": "tsoU-U0s8xdn",
        "colab": {
          "base_uri": "https://localhost:8080/"
        },
        "outputId": "6fc149a5-3226-4ddb-d594-641bb28ee622"
      },
      "execution_count": 10,
      "outputs": [
        {
          "output_type": "stream",
          "name": "stdout",
          "text": [
            "['deposit' 'withdrawal' 'purchase']\n"
          ]
        }
      ]
    },
    {
      "cell_type": "markdown",
      "source": [
        "**8.Display The Count Of Each Transaction Type With Respect To Each Continent.**"
      ],
      "metadata": {
        "id": "siYRClUK82yo"
      }
    },
    {
      "cell_type": "code",
      "source": [
        "merge_df = df1.merge(df2, on='customer_id', how='left')\n",
        "merge_df = merge_df.merge(df3, left_on='region_id', right_on='region_id', how='left')\n",
        "\n",
        "# Group and count transactions\n",
        "transaction_counts = merge_df.groupby(['region_name', 'txn_type']).size().reset_index(name='transaction_count')\n",
        "print(transaction_counts)"
      ],
      "metadata": {
        "id": "C9Ps4nx8rPxz",
        "colab": {
          "base_uri": "https://localhost:8080/"
        },
        "outputId": "291a55b5-6f0e-4de3-f61f-f78fb53420c3"
      },
      "execution_count": 12,
      "outputs": [
        {
          "output_type": "stream",
          "name": "stdout",
          "text": [
            "   region_name    txn_type  transaction_count\n",
            "0       Africa     deposit               3759\n",
            "1       Africa    purchase               2338\n",
            "2       Africa  withdrawal               2317\n",
            "3      America     deposit               4060\n",
            "4      America    purchase               2359\n",
            "5      America  withdrawal               2387\n",
            "6         Asia     deposit               3682\n",
            "7         Asia    purchase               2149\n",
            "8         Asia  withdrawal               2121\n",
            "9    Australia     deposit               4053\n",
            "10   Australia    purchase               2660\n",
            "11   Australia  withdrawal               2394\n",
            "12      Europe     deposit               3143\n",
            "13      Europe    purchase               1813\n",
            "14      Europe  withdrawal               1841\n"
          ]
        }
      ]
    },
    {
      "cell_type": "markdown",
      "source": [
        "**9.Find out the selling cost average for packages developed in Pascal.**"
      ],
      "metadata": {
        "id": "u6XWGw69rSDO"
      }
    },
    {
      "cell_type": "code",
      "source": [
        "\n",
        "#new Datasets\n",
        "import pandas as pd\n",
        "df4=pd.read_csv(\"Software .csv\")\n",
        "df5=pd.read_csv(\"Studies .csv\")\n",
        "df6=pd.read_csv(\"Programmer .csv\")\n",
        "print(df4.head())\n",
        "print(df5.head())\n",
        "print(df6.head())\n",
        "\n",
        "pas_packages = df4[df4['DEVELOPIN'] == 'PASCAL']\n",
        "# Calculate the average\n",
        "avg = pas_packages['SCOST'].mean()\n",
        "\n",
        "print(\"Average Selling Cost for the packages developed in Pascal: \", avg)"
      ],
      "metadata": {
        "id": "A-kxftBgs00p"
      },
      "execution_count": null,
      "outputs": []
    },
    {
      "cell_type": "markdown",
      "source": [
        "**10) Display the names of those who have done the DAP Course**"
      ],
      "metadata": {
        "id": "WqeSei2ps10H"
      }
    },
    {
      "cell_type": "code",
      "source": [
        "dap = df5[df5['COURSE'] == 'DAP']\n",
        "print(dap['PNAME'])"
      ],
      "metadata": {
        "colab": {
          "base_uri": "https://localhost:8080/"
        },
        "id": "B5NsOXCx3_Wy",
        "outputId": "cee10de1-42a3-4ab1-ad0d-f8a8dbc24f90"
      },
      "execution_count": 17,
      "outputs": [
        {
          "output_type": "stream",
          "name": "stdout",
          "text": [
            "5      NELSON\n",
            "11    REVATHI\n",
            "Name: PNAME, dtype: object\n"
          ]
        }
      ]
    },
    {
      "cell_type": "markdown",
      "source": [
        "11) Display the lowest course fee"
      ],
      "metadata": {
        "id": "eHAJ6WRV4Adg"
      }
    },
    {
      "cell_type": "code",
      "source": [
        "low=df5['COURSE FEE'].min()\n",
        "print(\"Lowest Course Fee : \",low)"
      ],
      "metadata": {
        "colab": {
          "base_uri": "https://localhost:8080/"
        },
        "id": "on2j1Zje4A3B",
        "outputId": "ffc57785-1f66-4079-d9a9-d7b1af52eebc"
      },
      "execution_count": 19,
      "outputs": [
        {
          "output_type": "stream",
          "name": "stdout",
          "text": [
            "Lowest Course Fee :  4500\n"
          ]
        }
      ]
    },
    {
      "cell_type": "markdown",
      "source": [
        "12) Display the details of the packages for which development costs have been recovered."
      ],
      "metadata": {
        "id": "9h1GF7T03bun"
      }
    },
    {
      "cell_type": "code",
      "source": [
        "df4['Revenue'] = df4['SCOST'] * df4['SOLD']\n",
        "recover = df4[df4['Revenue'] >= df4['DCOST']]\n",
        "print(recover[['PNAME', 'TITLE', 'DEVELOPIN', 'SCOST', 'DCOST', 'SOLD']])"
      ],
      "metadata": {
        "colab": {
          "base_uri": "https://localhost:8080/"
        },
        "id": "nwdoo1Zo3cFQ",
        "outputId": "1c095576-2b90-4a44-bf7f-0a27bb8a4425"
      },
      "execution_count": 22,
      "outputs": [
        {
          "output_type": "stream",
          "name": "stdout",
          "text": [
            "       PNAME           TITLE DEVELOPIN     SCOST  DCOST  SOLD\n",
            "0       MARY          README       CPP    300.00   1200    84\n",
            "1      ANAND      PARACHUTES     BASIC    399.95   6000    43\n",
            "2      ANAND   VIDEO TITLING    PASCAL   7500.00  16000     9\n",
            "4     KAMALA    PAYROLL PKG.     DBASE   9000.00  20000     7\n",
            "6       MARY  CODE GENERATOR         C   4500.00  20000    23\n",
            "7   PATTRICK          README       CPP    300.00   1200    84\n",
            "8      QADIR      BOMBS AWAY  ASSEMBLY    750.00   3000    11\n",
            "9      QADIR        VACCINES         C   1900.00   3100    21\n",
            "10    RAMESH     HOTEL MGMT.     DBASE  13000.00  35000     4\n",
            "11    RAMESH        DEAD LEE    PASCAL    599.95   4500    73\n",
            "12   REMITHA    PC UTILITIES         C    725.00   5000    51\n",
            "13   REMITHA   TSR HELP PKG.  ASSEMBLY   2500.00   6000     7\n",
            "15    VIJAYA      TSR EDITOR         C    900.00    700     6\n"
          ]
        }
      ]
    },
    {
      "cell_type": "markdown",
      "source": [
        "13) What is the cost of the costliest software development in Basic"
      ],
      "metadata": {
        "id": "qBV4AVoO3dTB"
      }
    },
    {
      "cell_type": "code",
      "source": [
        "c = df4[df4['DEVELOPIN']== 'BASIC']['DCOST'].max()\n",
        "print(\"Cost of the costliest software development in Basic : \", c)"
      ],
      "metadata": {
        "colab": {
          "base_uri": "https://localhost:8080/"
        },
        "id": "g6qgc4Gm3dhK",
        "outputId": "721302a8-450f-46ed-b86a-dd925d9bb142"
      },
      "execution_count": 23,
      "outputs": [
        {
          "output_type": "stream",
          "name": "stdout",
          "text": [
            "Cost of the costliest software development in Basic :  6000\n"
          ]
        }
      ]
    },
    {
      "cell_type": "markdown",
      "source": [
        " 14) How many programmers paid 5000 to 10000 for their course"
      ],
      "metadata": {
        "id": "9c5ekRdK4BbW"
      }
    },
    {
      "cell_type": "code",
      "source": [
        "a = df6[(df6['SALARY'] >= 5000) & (df6['SALARY'] <= 10000)]\n",
        "print(\"Number of programmers who paid between 5000 and 10000 for their course:\", len(a))"
      ],
      "metadata": {
        "colab": {
          "base_uri": "https://localhost:8080/"
        },
        "id": "FvdffJaT4Bw9",
        "outputId": "793d28ee-a15d-48eb-a66c-cc8917140fd8"
      },
      "execution_count": 24,
      "outputs": [
        {
          "output_type": "stream",
          "name": "stdout",
          "text": [
            "Number of programmers who paid between 5000 and 10000 for their course: 0\n"
          ]
        }
      ]
    },
    {
      "cell_type": "markdown",
      "source": [
        "15) How many programmers know either COBOL or Pascal"
      ],
      "metadata": {
        "id": "DqpRLxW54Jxk"
      }
    },
    {
      "cell_type": "code",
      "source": [
        "b = df6[(df6['PROF1'].isin(['COBOL', 'PASCAL'])) | (df6['PROF2'].isin(['COBOL', 'PASCAL']))]\n",
        "print(\"Number of programmers who know either COBOL or Pascal:\", len(b))"
      ],
      "metadata": {
        "colab": {
          "base_uri": "https://localhost:8080/"
        },
        "id": "CKTZfSuv4J_I",
        "outputId": "9f2ec20b-b40c-4d5e-aaf6-058059183944"
      },
      "execution_count": 25,
      "outputs": [
        {
          "output_type": "stream",
          "name": "stdout",
          "text": [
            "Number of programmers who know either COBOL or Pascal: 8\n"
          ]
        }
      ]
    }
  ]
}